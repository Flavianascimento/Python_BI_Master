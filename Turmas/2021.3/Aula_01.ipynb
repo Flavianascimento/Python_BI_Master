{
  "nbformat": 4,
  "nbformat_minor": 0,
  "metadata": {
    "kernelspec": {
      "display_name": "Python 3",
      "language": "python",
      "name": "python3"
    },
    "language_info": {
      "codemirror_mode": {
        "name": "ipython",
        "version": 3
      },
      "file_extension": ".py",
      "mimetype": "text/x-python",
      "name": "python",
      "nbconvert_exporter": "python",
      "pygments_lexer": "ipython3",
      "version": "3.7.0"
    },
    "colab": {
      "name": "Aula_01.ipynb",
      "provenance": [],
      "collapsed_sections": []
    }
  },
  "cells": [
    {
      "cell_type": "markdown",
      "metadata": {
        "id": "80btK5XbwZYO"
      },
      "source": [
        "<img src=\"https://github.com/jupotratz/Python_BI_Master/blob/main/Turmas/2021.3/Imagens/sep.png?raw=true\"  width=1000 height=125 />"
      ]
    },
    {
      "cell_type": "markdown",
      "metadata": {
        "id": "QzcePa9W8N_Y"
      },
      "source": [
        "### Professoras\n",
        "\n",
        " - Amanda Lemette \n",
        "\t - prof.amanda@ica.ele.puc-rio.br\n",
        "\t - [Linkedin](https://www.linkedin.com/in/amanda-lemette-brand%C3%A3o-83280918b)\n",
        "   - [Youtube](https://www.youtube.com/c/AmandaLemette/featured)\n",
        "   \n",
        " - Júlia Potratz\n",
        "\t - prof.julia@ica.ele.puc-rio.br\n",
        "\t - [Linkedin](https://www.linkedin.com/in/julia-potratz)\n",
        "     \n",
        "\n",
        "# Aula 1\n",
        "\n",
        "- **Plano de aula:**\n",
        "\t-  Acessar e como abrir o material de aula        \n",
        "    - Introdução a programação \n",
        "        - Lógica de programação (conceitos básicos)\n",
        "        - Exercícios de lógica iterativos (programação em blocos)\n",
        "    - Introdução ao Python\n",
        "    - Google Colab\n",
        "    - Exemplo prático do dia a dia utilizando o básico do Python \n",
        "\n"
      ]
    },
    {
      "cell_type": "markdown",
      "metadata": {
        "id": "5d1PX1ygwZm6"
      },
      "source": [
        "<img src=\"https://github.com/jupotratz/Python_BI_Master/blob/main/Turmas/2021.3/Imagens/sep.png?raw=true\"  width=1000 height=125 />"
      ]
    },
    {
      "cell_type": "markdown",
      "metadata": {
        "id": "bEvcrmoJwZyB"
      },
      "source": [
        "# Acesso ao Material de Aula\n",
        "---\n",
        "## Clasrrom\n",
        "\n",
        "<img src=\"https://ggte.unicamp.br/wp/wp-content/uploads/2020/07/GoogleClassroom.png\" width=200 align=\"left\">\n",
        "\n",
        "O material de Aula de todas as disciplinas do BI Master ficam disponíveis na plataforma oficial do Curso que é o [Google Classrrom](https://classroom.google.com/).\n",
        "\n",
        "Cada disciplina possui uma turma específica. A disciplina de Sistemas de Apoio à Decisão (SAD) é a disciplina introdutória do BI Master que tem como objetivo apresentar as ferramentas e guiar os alunos na sua utilização para solucionar problemas e desenvolver soluções em problemas reais. Essa disciplina apresenta as seguintes ferramentas:\n",
        "- Introdução a Inteligência Artificial (visão da IA no mercado de trabalho) - Professora [Manoela](https://www.linkedin.com/in/manoelakohler/)\n",
        "- Python (básico + análise de dados) - Professoras [Amanda](https://www.linkedin.com/in/amanda-lemette-brand%C3%A3o-83280918b/), [Júlia](https://www.linkedin.com/in/julia-potratz/) e [Manoela](https://www.linkedin.com/in/manoelakohler/)\n",
        "- SQL - Professor [Anderson Nascimento](https://www.linkedin.com/in/profandersonnascimento/)\n",
        "- Ferramentas para lidar com NLP (Processamento de Linguagem Natural) - Professor [Leonardo Mendonza](https://www.linkedin.com/in/leonardo-alfredo-forero-mendoza-53803159/)\n",
        "\n",
        "---\n",
        "## Para acessar o material \n",
        "1. Entre na turma de **SAD** do Clasrrom \n",
        "2. Acessar a Aba **Atividades** \n",
        "  - Nessa aba as aulas ficam organizadas em tópicos e em ordem cronológica (ordem em que as aulas aconteceram)\n",
        "\n",
        "<img src=\"https://github.com/jupotratz/Python_BI_Master/blob/main/Turmas/2021.3/Imagens/classroom_atividades.png?raw=true\" width=650>\n",
        "\n",
        "\n",
        "\n",
        "\n"
      ]
    },
    {
      "cell_type": "markdown",
      "metadata": {
        "id": "aXG5csk8wZ6r"
      },
      "source": [
        "3. Acessar o tópico da aula. \n",
        "\n",
        "- Cada tópico de aula possui:\n",
        "\n",
        "  - Um link redirecionando para o material de aula e links das tranmissões e do Zoom (antes da aula)\n",
        "\n",
        "  - Um link para um Quis, a depender da disciplina (após a aula)\n",
        "\n",
        "  - Um quis com um formulario de avaliação da aula (após a aula)\n",
        "\n",
        "<img src=\"https://github.com/jupotratz/Python_BI_Master/blob/main/Turmas/2021.3/Imagens/classroom_topico.png?raw=true\" width=600 align=\"left\">\n",
        "\n",
        "\n",
        "\n"
      ]
    },
    {
      "cell_type": "markdown",
      "metadata": {
        "id": "ZUvayBtu5AmN"
      },
      "source": [
        "4. Utilizar o seu número de matricula como chave de acesso para acessar as seguintes informações:\n",
        "\n",
        "- Links da transmissão\n",
        "- Link da pasta do drive com o Material\n",
        "\n",
        "<img src=\"https://github.com/jupotratz/Python_BI_Master/blob/main/Turmas/2021.3/Imagens/drive_folder.png?raw=true\" width=500> "
      ]
    },
    {
      "cell_type": "markdown",
      "metadata": {
        "id": "2AHm93Ui5Ao9"
      },
      "source": [
        "# GitHub\n",
        "\n",
        "<img src=\"https://enotas.com.br/blog/wp-content/uploads/2021/02/GitHub.jpg\" width=200 align=\"left\">\n",
        "\n",
        "- Repositório: [Python - BI Master](https://github.com/jupotratz/Python_BI_Master.git)\n",
        "\n",
        "\n",
        "\n",
        "\n"
      ]
    },
    {
      "cell_type": "markdown",
      "metadata": {
        "id": "VaCOnehu5AsD"
      },
      "source": [
        "Nesse repositório do GitHub estarão alocadas as seguintes informações:\n",
        "- Todas as aulas de Python do BI Master separadas em pastas por turma \n",
        "- Todo o material extra separado por tópicos (graficos, dataframes, básico, etc)"
      ]
    },
    {
      "cell_type": "markdown",
      "metadata": {
        "id": "t_JrodgL7ihm"
      },
      "source": [
        "<img src=\"https://github.com/jupotratz/Python_BI_Master/blob/main/Turmas/2021.3/Imagens/sep.png?raw=true\"  width=1000 height=125 />\n",
        "\n",
        "\n",
        "### História da Programação \n",
        "\n",
        "---\n",
        "\n",
        "\n",
        "![Image](https://github.com/jupotratz/Python_BI_Master/blob/main/Turmas/2021.3/Imagens/historia.png?raw=true)\n"
      ]
    },
    {
      "cell_type": "markdown",
      "metadata": {
        "id": "L5DmxgKX7iho"
      },
      "source": [
        "<img src=\"https://github.com/jupotratz/Python_BI_Master/blob/main/Turmas/2021.3/Imagens/sep.png?raw=true\"  width=1000 height=125 />"
      ]
    },
    {
      "cell_type": "markdown",
      "metadata": {
        "id": "BVPWwD3c7ihp"
      },
      "source": [
        "### Linguagens de Programaçao mais utilizadas no mundo. \n",
        "\n",
        "---\n",
        "\n",
        " \n",
        "<p style=\"font-family: Calibri; font-size:1.4;color:black;\"> Ranking divulgado pela revista IEEE Spectrum no final de 2021. </p>\n",
        "<img src=\"https://github.com/jupotratz/Python_BI_Master/blob/main/Turmas/2021.3/Imagens/ranking.JPG?raw=true\",align=\"left\",width=\"900\", height=\"600\">\n"
      ]
    },
    {
      "cell_type": "markdown",
      "metadata": {
        "id": "PSc-VwqY7ihp"
      },
      "source": [
        "<img src=\"https://github.com/jupotratz/Python_BI_Master/blob/main/Turmas/2021.3/Imagens/sep.png?raw=true\"  width=1000 height=125 />"
      ]
    },
    {
      "cell_type": "markdown",
      "metadata": {
        "id": "6lCNr_Ua7ihq"
      },
      "source": [
        "### Por que a programação tem se tornado tão importante nos ultimos anos? \n",
        "\n",
        "\n",
        "\n",
        "---\n",
        "\n",
        "\n",
        "A chegada da era da informação vem trazendo grandes mudanças: a gestão dos negócios ficou mais dinâmica e competitiva, exigindo profissionais com perfil proativo e empreendedor, favorecendo a transformação digital, implodindo as estruturas hierárquicas e processuais rígidas e inflexíveis.\n",
        "\n",
        "\n",
        "A evolução tecnológica constante e incansável vem gerando mudanças no cenário empresarial, agregando novos recursos tecnológicos aos processos, reduzindo barreiras de comunicação e simplificando os fluxos de trabalho nas diversas áreas do conhecimento, como por exemplo:\n",
        "\n",
        "- Área médica\n",
        "- Mercado financeiro\n",
        "- Comuniação/Jornalismo\n",
        "- Direito \n",
        "- Agropecuária\n",
        "- Entre outras \n",
        "    \n",
        "Segundo um [artigo](https://c2ti.com.br/blog/as-32-profissoes-mais-cotadas-para-o-futuro-inova) publicado no site da empresa c2ti, a tabela abaixo apresenta algumas profissões que estarão em alta nos próximos anos e irão impactar direta e indiretamente todas as áreas do conhecimento.\n",
        "\n",
        "\n",
        "\n",
        "|Profissão|\n",
        "|-----|\n",
        "|Desenvolvedores de softwares|\n",
        "|Analista de Big Data|\n",
        "|Segurança da informação/Blockchain|\n",
        "|Especialistas em Experiência de Usuário/Cliente|\n",
        "|Profissional de Marketing Digital/Inbound Marketing|Produtores de conteúdo, analistas de mídia|\n",
        "|Gestor de inovação|\n",
        "|Especialista em E-commerce|\n",
        "|Creators/Influenciadores Digitais|\n",
        "|Assessor de creators|\n",
        "|Professores online|\n",
        "\n",
        "\n",
        "### Importância da programação nesse processo de transformação? \n",
        "\n",
        "\n",
        "---\n",
        "\n",
        "\n",
        "- Criação de soluções personalizadas para cada problema\n",
        "- Redução de custos (softwares, suporte técnico, etc)\n",
        "- Desenvolvimento de soft skils como: raciocínio lógico, pensamento analítico e criatividade.\n",
        "- Entre outros\n",
        "\n",
        "\n"
      ]
    },
    {
      "cell_type": "markdown",
      "metadata": {
        "id": "prJ3QZd77ihr"
      },
      "source": [
        "<img src=\"https://github.com/jupotratz/Python_BI_Master/blob/main/Turmas/2021.3/Imagens/sep.png?raw=true\"  width=1000 height=125 />"
      ]
    },
    {
      "cell_type": "markdown",
      "metadata": {
        "id": "_ZRjU8hl7iht"
      },
      "source": [
        "<p style=\"font-family: Calibri; font-size:1.8em;color:red;\"> A programação não surgiu para solucionar os problemas do mundo. Ela surgiu como uma ferramentas que veio facilitar a vida dos seres humanos em diversas tarefas e vem sendo incorporada mais e mais no dia a dia dos profissionais de diferentes áreas do conhecimento.</p>\n",
        "\n",
        "\n",
        "<img src=\"https://github.com/jupotratz/Python_BI_Master/blob/main/Turmas/2021.3/Imagens/meiofim.png?raw=true\">"
      ]
    },
    {
      "cell_type": "markdown",
      "metadata": {
        "id": "7hMx9SZz7ihw"
      },
      "source": [
        "<img src=\"https://github.com/jupotratz/Python_BI_Master/blob/main/Turmas/2021.3/Imagens/sep.png?raw=true\"  width=1000 height=125 />"
      ]
    },
    {
      "cell_type": "markdown",
      "metadata": {
        "id": "FeEArrlc7ihw"
      },
      "source": [
        "# Introdução a Programação\n",
        "\n",
        "\n",
        "---\n",
        "\n",
        "\n",
        "## Lógica de Programação</p>\n",
        "\n",
        "Segundo a filosofia a lógica é a parte da filosofia que trata das formas do pensamento em geral (dedução, indução, hipótese, inferência etc.) e das operações intelectuais que visam à determinação do que é verdadeiro ou não. Já quando pensamos em conceitos no universo da tecnologia da informação a lógica é a organização e planejamento das instruções, assertivas etc. em um algoritmo, a fim de viabilizar a implantação de um programa.\n",
        "\n",
        "<p style=\"font-family: Calibri; font-size:1.4em;color:blue;\"> Programar nada mais é do que a organização coesa de uma sequência de instruções voltadas à resolução de um problema de forma lógica. </p>\n",
        "\n",
        "![enter image description here](https://encrypted-tbn0.gstatic.com/images?q=tbn:ANd9GcQFslNDwbeGYOjSrkI9iKABd8FUr2MeMV-GVg&usqp=CAU)\n",
        "\n",
        "\n"
      ]
    },
    {
      "cell_type": "markdown",
      "metadata": {
        "id": "acp9NkpV--RZ"
      },
      "source": [
        "## Algoritmos\n",
        "\n",
        "\n",
        "Algoritmo, pode ser definido como uma sequência de passos a serem seguidos que produzem um resultado esperado para determinada atividade ou tarefa. Ele pode ser usado em diferentes situações:\n",
        "\n",
        "- Receitas \n",
        "- Manuais\n",
        "- Programação\n",
        "- Entre outros\n",
        "\n",
        "Por exemplo, vamos criar um algoritmo para trocar uma lâmpada:\n",
        "\n",
        "- **Versão 1**\n",
        "\n",
        "```\n",
        "Passo 1— Pegar uma lâmpada nova;\n",
        "Passo 2 — Pegar a escada;\n",
        "Passo 3 — Posicionar a escada embaixo da lâmpada queimada;\n",
        "Passo 4 — Subir na escada com a lâmpada nova;\n",
        "Passo 5 — Retirar a lâmpada queimada;\n",
        "Passo 6 — Colocar a lâmpada nova;\n",
        "Passo 7 — Descer da escada;\n",
        "Passo 8 — Ligar o interruptor;\n",
        "Passo 9 — Guardar a escada;\n",
        "Passo 10 — Jogar a lâmpada velha no lixo.\n",
        "```\n",
        "\n",
        "Mas quando criamos um algoritomo temos que pensar que ele tem que ser \"for dummies\". Sendo assim, será que tem como melhorar?\n",
        "\n",
        "A resposta para essa pergunta sempre vai ser **sim**, sempre tem como melhorar, mas para isso temos que conhecer dois conceitos importantes.\n",
        "\n",
        "<img src=\"https://gestaoemsintonia.com/wp-content/uploads/2018/01/eficaciaeeficiencia.jpeg\">\n",
        "\n",
        "- **Eficácia** — é a qualidade daquilo que cumpre com as metas planejadas, ou seja, uma característica pertencente as pessoas que alcançam os resultados esperados.\n",
        "\n",
        "- **Eficiência** — é a qualidade daquilo ou de quem é competente, que realiza de maneira correta as suas funções.\n",
        "\n",
        "---\n",
        "<img src=\"https://dobraespacial.com.br/wp-content/uploads/2020/02/Lan%C3%A7amento-brasil.jpg\" align=\"left\" width=350>\n",
        "\n",
        "Exemplo:\n",
        "\n",
        "Vamos supor que você esteja desenvolvendo um algoritmo para realizar o lançamento do primeiro foguete brasileiro com destino a lua.\n",
        "\n",
        "Se seu algoritmo fizer o foguete chegar a lua, ele é uma algoritmo eficiente, mas se seu algoritmo fizer o foguete chegar a lua com o menor tempo de processamento, com a menor quantidade de falhas, e assim por diante, esse sim foi um algoritmo eficaz.\n",
        "\n",
        "---\n",
        "\n",
        "Tendo em vista esses conceitos como poderiamos melhorar o nosso algoritmo de trocar a lâmpada?\n",
        "\n",
        "- **Versão 2**\n",
        "\n",
        "```\n",
        "Passo 1 — Pegar a escada;\n",
        "Passo 2 — Posicionar a escada embaixo da lâmpada queimada;\n",
        "Passo 3 — Pegar uma lâmpada nova;\n",
        "Passo 4 — Subir na escada com a lâmpada nova;\n",
        "Passo 5 — Retirar a lâmpada queimada;\n",
        "Passo 6 — Colocar a lâmpada nova;\n",
        "Passo 7 — Descer da escada;\n",
        "Passo 8 — Ligar o interruptor;\n",
        "Passo 9 — Se a lâmpada não acender então volte ao Passo 3;\n",
        "Passo 10 — Guardar a escada;\n",
        "Passo 11 — Jogar a(s) lâmpada(s) queimada(s) no lixo.\n",
        "```\n",
        "\n",
        "Nessa versão introduzimos uma etapa de verificação da nova lâmpada, para saber se ela não esta queimada também. Será que podemos continuar melhorando?\n",
        "\n",
        "- **Versão 3**\n",
        "```\n",
        "Passo 1 — Pegar a escada;\n",
        "Passo 2 — Posicionar a escada embaixo da lâmpada queimada;\n",
        "Passo 3 — Desligar o disjuntor;\n",
        "Passo 4 — Subir na escada;\n",
        "Passo 5 — Retirar a lâmpada queimada;\n",
        "Passo 6 — Descer da escada com a lâmpada queimada;\n",
        "Passo 7 — Pegar uma lâmpada nova;\n",
        "Passo 8 — Subir na escada;\n",
        "Passo 9 — Colocar a lâmpada nova;\n",
        "Passo 10 — Descer da escada;\n",
        "Passo 11 — Ligar o disjuntor;\n",
        "Passo 12 — Ligar o interruptor;\n",
        "Passo 13 — Se a lâmpada não acender então volte ao Passo 3;\n",
        "Passo 14 — Guardar a escada;\n",
        "Passo 15 — Jogar a(s) lâmpada(s) queimada(s) no lixo.\n",
        "```\n",
        "\n",
        "Na terceira versão introduzimos algumas etapas de segurança, afinal é importante que tenhamos em mente que um algoritmo deve prever riscos.\n",
        "\n",
        "As informações dessa seção foram retiradas de um post intitulado [Algoritmo, definição e exemplos simples do dia a dia](https://medium.com/@valkcastellani/algoritmo-defini%C3%A7%C3%A3o-e-exemplos-simples-do-dia-a-dia-343715536f65) criado pelo programador [Valk Castelalni](https://medium.com/@valkcastellani)"
      ]
    },
    {
      "cell_type": "markdown",
      "metadata": {
        "id": "cmzoSkW1hi7U"
      },
      "source": [
        "<img src=\"https://github.com/jupotratz/Python_BI_Master/blob/main/Turmas/2021.3/Imagens/sep.png?raw=true\"  width=1000 height=125 />"
      ]
    },
    {
      "cell_type": "markdown",
      "metadata": {
        "id": "3DyKwdqshjCr"
      },
      "source": [
        "### Que tal praticar com algumas coisas que fazemos no nosso dia a dia:\n",
        "---\n",
        "- Faça um algoritmo para atravessar a rua\n",
        "- Faça um algoritmo para escovar os dentes\n",
        "- Faça um algoritmo para fazer um sanduiche\n",
        "- Faça um algoritmo para sacar dinheiro de um caixa eletrônico\n",
        "\n",
        "<img src=\"https://a-static.mlcdn.com.br/574x431/adesivo-parede-decorativo-loading-carregando-palavra-barra-aartedecor/aartedecor/1541-1863/bbc74def4e1116a12776398372101bcd.jpg\">\n",
        "\n",
        "Esses algoritmos são **atividades que podem ser realizadas de maneiras diferentes**. Isso acontece pois na maioria das vezes um problema pode ser resolvido de diversas formas, porém, gerando sempre o mesmo resultado final, ou seja, podem existir vários algoritmos para solucionar um mesmo problema.\n"
      ]
    },
    {
      "cell_type": "markdown",
      "metadata": {
        "id": "YOXHukQxhjIB"
      },
      "source": [
        "<img src=\"https://github.com/jupotratz/Python_BI_Master/blob/main/Turmas/2021.3/Imagens/sep.png?raw=true\"  width=1000 height=125 />"
      ]
    },
    {
      "cell_type": "markdown",
      "metadata": {
        "id": "QOIYM0k7iuY7"
      },
      "source": [
        "## Algoritmos voltados para o processamento de dados\n",
        "\n",
        "Do ponto de vista computacional, algoritmo é um conjunto de regras e operações bem definidas e ordenadas, destinadas à solução de um problema (ou de uma classe de problemas) em um número finito de etapas, ou seja, é a representação de uma solução para um problema.\n",
        "\n",
        "Os algoritmos tem um papel fundamental por ser o elo de ligação entre dois mundos (o real e o computacional), e a atividade de programação começa com a construção de um bom algoritmo.\n",
        "\n",
        "<img src=\"https://github.com/jupotratz/Python_BI_Master/blob/main/Turmas/2021.3/Imagens/algoritmo.png?raw=true\">\n",
        "\n",
        "\n",
        "Existem algumas formas de representação de algoritmos, como por exemplo:\n",
        "\n",
        "1. **Descrição Narrativa — que é uma representação textual** (visto na seção anterior)\n",
        "2. **Fluxograma e/ou Diagrama de Nassi-Schneiderman**\n",
        "3. Pseudocódigo (Português estruturado, PORTUGOL) \n",
        "\n",
        "## Fluxogramas\n",
        "\n",
        "Os fluxograma são representações gráficas por meio de símbolos geométricos, das soluções algorítmicas dos problemas.   \n",
        "\n",
        "<img src=\"https://blogdaqualidade.com.br/wp-content/uploads/2012/06/imagem-meire-Fluxograma.jpg\" width=500>\n",
        "\n",
        "---\n",
        "### Exemplos\n",
        "\n",
        "- **Primeiro:** construa um fluxograma para calcular o dobro de determinado número informado.\n",
        "\n",
        "Para iniciar vamos listar o passo a passo a ser seguido...\n",
        "\n",
        "```\n",
        "1. Iniciar o fluxograma\n",
        "2. Receber um determinado número\n",
        "3. Calcular o dobro deste número\n",
        "4. Apresentar o resultado calculado\n",
        "5. Finalizar o fluxograma\n",
        "```\n",
        "\n",
        "<img src=\"https://miro.medium.com/max/498/0*fU5nNtX1JZsavjet\">\n",
        "\n",
        "- **Segundo:** construa um fluxograma que leia dois números e apresente o maior deles.\n",
        "\n",
        "Para iniciar vamos listar o passo a passo a ser seguido...\n",
        "\n",
        "```\n",
        "1.Iniciar o fluxograma\n",
        "2. Receber os dois números\n",
        "3. Verificar se o primeiro número informado é maior que o segundo:\n",
        "  -> Se o primeiro número for maior que o segundo número, apresentamos o primeiro número.\n",
        "  -> Se o segundo número for maior que o primeiro, apresentamos o segundo número.\n",
        "4. Finalizamos o fluxograma.\n",
        "```\n",
        "\n",
        "<img src=\"https://miro.medium.com/max/494/0*TKBmRm1RAxl1eQtr\">\n",
        "\n",
        "\n",
        "\n",
        "### Exercícios:\n",
        "\n",
        "1. Construa um fluxograma para calcular a soma de três números informados.\n",
        "2. Construa um fluxograma que faça a leitura de três números e apresente a média.\n",
        "3. Construa um fluxograma que leia três números e apresente o menor deles.\n",
        "\n",
        "\n",
        "\n",
        "\n",
        "---\n",
        "As informações dessa seção foram retiradas de um post intitulado [Algoritmo, voltado para processamento de dados](https://medium.com/@valkcastellani/algoritmo-voltado-para-processamento-de-dados-5d0b3a2d0c25) criado pelo programador [Valk Castelalni](https://medium.com/@valkcastellani)\n"
      ]
    },
    {
      "cell_type": "markdown",
      "metadata": {
        "id": "eDXRbEPc7ihx"
      },
      "source": [
        "<img src=\"https://github.com/jupotratz/Python_BI_Master/blob/main/Turmas/2021.3/Imagens/sep.png?raw=true\"  width=1000 height=125 />"
      ]
    },
    {
      "cell_type": "markdown",
      "metadata": {
        "id": "D_UWFX9l7ihx"
      },
      "source": [
        "# Exercícios (10 minutos)"
      ]
    },
    {
      "cell_type": "markdown",
      "metadata": {
        "id": "nYQ8GReS7ihx"
      },
      "source": [
        "<p style=\"font-family: Calibri; font-size:1.2em;color:black;\"> Antes de começar a estudar mais o python vamos fazer alguns exercícios para praticar um pouco e começar a entender como devemos pensar quando vamos programar utilizando blocos. A programação em blocos nada mais é do que uma metodologia visualmente amigável e com um objetivo prático para o ensino dos conceitos iniciais ligados à programação, desenvolvimento de softwares/aplicativos e lógica de uma forma geral.</p>\n",
        "\n",
        "### Plataforma utilizada\n",
        "\n",
        "[brokly.games](https://blockly.games/?lang=en)\n",
        "\n",
        "<img src=\"https://github.com/jupotratz/Python_BI_Master/blob/main/Turmas/2021.3/Imagens/qrcode_blockly.games.png?raw=true\" align=\"left\" width=200 height=200>\n",
        "\n",
        "<p style=\"font-family: Calibri; font-size:1.6em;color:red;\"> Exercícios: Maze (2 ao 9)</p>\n",
        "<p style=\"font-family: Calibri; font-size:1.6em;color:red;\"> Obetivo geral: Tentar utilizar o menor número de blocos possíveis </p>"
      ]
    },
    {
      "cell_type": "markdown",
      "metadata": {
        "id": "pOgj29EG7ihy"
      },
      "source": [
        "<img src=\"https://github.com/jupotratz/Python_BI_Master/blob/main/Turmas/2021.3/Imagens/sep.png?raw=true\"  width=1000 height=125 />"
      ]
    },
    {
      "cell_type": "markdown",
      "metadata": {
        "id": "M_SVtH5T7ihy"
      },
      "source": [
        "## Por que o Python?\n",
        "\n",
        "\n",
        "---\n",
        "\n",
        "\n",
        "\n",
        "### 1. Facilidade e versatilidade\n",
        "    \n",
        "- Linguagem livre e de Código aberto\n",
        "- Frameworks disponíveis gratuitamente\n",
        "- Infinidade de módulos disponíveis \n",
        "- Multiplataforma (windowns, linux, mac)\n",
        "- Sintaxe simples \n",
        "- Documentação ampla\n",
        "- Integração com outras linguagens (Java, C, C++, entre outras)\n",
        "    \n",
        "    \n",
        "#### Java\n",
        "\n",
        "\n",
        "\n",
        "    public class Voitto{\n",
        "    public static void main(String[] args)) {\n",
        "        System.out.println(\"Bi Master\")\n",
        "    }\n",
        "}\n",
        "\n",
        "#### Python\n",
        "```bash\n",
        "print(\"Bi Master\")\n",
        "```\n",
        "\n",
        "\n",
        "    \n",
        "\n",
        "### 2. Comunidade ampla e popularidade\n",
        "\n",
        "- Fóruns de discução: Stack Overflow, GitHub\n",
        "- Muitos blogs e material disponível na web\n",
        "\n",
        "### 3. Inteligência Artificial\n",
        "- Bibliotecas completas já disponíveis: Keras, Tensorflow, Scikit-learn, Pytorch, entre outras\n",
        "    \n",
        "### 4. Programação Web\n",
        "\n",
        "- Modulos disponíveis que tornam o desenvolvimento mais fácil: Django e Flask\n",
        "- Algumas grandes empresas que usam Python no dia a dia \n",
        "    \n",
        "<img src=\"https://i2.wp.com/programadoraventureiro.com/wp-content/uploads/2020/12/Who-Use-Python1.png?resize=800%2C419&ssl=1\" />\n",
        "    \n",
        "\n",
        "\n",
        "### 5. Gerenciamento de Big Data\n",
        "- Gerenciamento de informações\n",
        "- Análise de dados: Pandas, Dask e Pyspark\n",
        " \n",
        "<img src=\"https://i.ytimg.com/vi/mG94nRrSlis/maxresdefault.jpg\" />\n",
        "\n",
        "\n",
        "### 6. Mercado Amplo e Salário\n",
        "- De acordo com uma pesquisa feita pelo site Coding Dojo, Python é a terceira linguagem de programação mais procurada pelo mercado, atrás somente de JavaScript e Java.\n",
        "- Grandes empresas como Google e Apple procuram profissionais para desenvolver em Python.\n"
      ]
    },
    {
      "cell_type": "markdown",
      "metadata": {
        "id": "tPFvx3yL7ihy"
      },
      "source": [
        "<img src=\"https://github.com/jupotratz/Python_BI_Master/blob/main/Turmas/2021.3/Imagens/sep.png?raw=true\"  width=1000 height=125 />"
      ]
    },
    {
      "cell_type": "markdown",
      "metadata": {
        "id": "lWwEjSAD7ihz"
      },
      "source": [
        "## Como começar a programar em Python?\n",
        "\n",
        "\n",
        "---\n",
        "\n",
        "\n",
        "\n",
        "\n",
        "<p style=\"font-family: Calibri; font-size:1.8em;color:blue;\"> Passo 1 </p>\n",
        "    \n",
        "- Decida se você vai utilizar um recurso na **nuvem** ou um **recurso local** para aprender a programar.\n",
        "\n",
        "\n",
        "\n",
        "\n",
        "### Frameworks disponíveis:\n",
        "\n",
        "\n",
        "<img src=\"https://github.com/jupotratz/Python_BI_Master/blob/main/Turmas/2021.3/Imagens/frameworks.png?raw=true\" align=\"right\" width=400 height=250 />\n",
        "\n",
        "#### Execução local\n",
        "- [Pycharm](https://www.jetbrains.com/pt-br/pycharm/download/#section=windows)\n",
        "- [Visual Studio Code](https://code.visualstudio.com/)\n",
        "- [Jupyter notebook](https://jupyter.org/)\n",
        "- [Spyder](https://www.spyder-ide.org/)\n",
        "\n",
        "#### Execução na nuvem\n",
        "- [Google Colaboratory](https://colab.research.google.com/)\n",
        "- [Cognitive Class – Lab (IBM)](https://labs.cognitiveclass.ai/tools/jupyterlab/#)\n",
        "\n",
        "\n",
        "\n",
        "<p style=\"font-family: Calibri; font-size:1.8em;color:blue;\"> Passo 2 </p>\n",
        "\n",
        "- Começe com o básico:\n",
        "    - Sintaxe da linguagem\n",
        "    - Funções já disponíveis (funções reservadas do python)\n",
        "- Troque informações e experiência com quem já programa em Python\n",
        "- Pratique bastante\n",
        "    "
      ]
    },
    {
      "cell_type": "markdown",
      "metadata": {
        "id": "ev4YCpg87ihz"
      },
      "source": [
        "<img src=\"https://github.com/jupotratz/Python_BI_Master/blob/main/Turmas/2021.3/Imagens/sep.png?raw=true\"  width=1000 height=125 />"
      ]
    },
    {
      "cell_type": "markdown",
      "metadata": {
        "id": "HYcr2loD7ihz"
      },
      "source": [
        "<p><img alt=\"Colaboratory logo\" height=\"45px\" src=\"data:image/png;base64,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\" align=\"left\"></p>\n",
        "\n",
        "## O que é o Colaboratory?\n",
        "\n",
        "\n",
        "\n",
        "---\n",
        "\n",
        "\n",
        "O Colaboratory, popularmente conhecido como \"Colab\" permite escrever código Python no seu navegador de internet, é um recurso da Google disponível gratuitamente e online tendo como vantagens: \n",
        "- Nenhuma necessidade de configuração \n",
        "- Acesso gratuito a CPU's, GPU's e TPU's\n",
        "- Compartilhamento fácil\n",
        "\n",
        "\n"
      ]
    },
    {
      "cell_type": "markdown",
      "metadata": {
        "id": "150QQ4qF7ih0"
      },
      "source": [
        "## Primeiros passos\n",
        "\n",
        "\n",
        "---\n",
        "\n",
        "\n",
        "O documento que você está lendo não é uma página da Web estática, mas sim um ambiente interativo chamado <strong>notebook Colab</strong> que permite escrever e executar código.\n",
        "\n",
        "Por exemplo, aqui está uma <strong>célula de código</strong> com um breve script Python que calcula um a quantidade de segundos que existe em um dia, armazena essa informação em uma variável e imprime o resultado:"
      ]
    },
    {
      "cell_type": "code",
      "metadata": {
        "colab": {
          "base_uri": "https://localhost:8080/"
        },
        "id": "3_SMaEJO7ih0",
        "outputId": "a80457ab-86c4-494f-b0cd-c3f4e5d21286"
      },
      "source": [
        "seconds_in_a_day = 24 * 60 * 60\n",
        "print(seconds_in_a_day)"
      ],
      "execution_count": null,
      "outputs": [
        {
          "output_type": "stream",
          "name": "stdout",
          "text": [
            "86400\n"
          ]
        }
      ]
    },
    {
      "cell_type": "markdown",
      "metadata": {
        "id": "kR9QJyfU_5iT"
      },
      "source": [
        "Para executar o código em uma célula, clique nela e depois pressione o botão Play à esquerda do código ou use o atalho do teclado \"Ctrl+Enter\" ou \"Shift+Enter\". Para editar o código, basta clicar na célula e começar a editar.\n",
        "\n",
        "As variáveis definidas em uma célula podem ser usadas mais tarde em outras células:"
      ]
    },
    {
      "cell_type": "code",
      "metadata": {
        "colab": {
          "base_uri": "https://localhost:8080/"
        },
        "id": "1vPsbvTf__f1",
        "outputId": "51f9fe2b-3a66-41b2-e7a4-e66f11c1651d"
      },
      "source": [
        "seconds_in_a_week = 7 * seconds_in_a_day\n",
        "print(seconds_in_a_week)"
      ],
      "execution_count": null,
      "outputs": [
        {
          "output_type": "stream",
          "name": "stdout",
          "text": [
            "604800\n"
          ]
        }
      ]
    },
    {
      "cell_type": "markdown",
      "metadata": {
        "id": "RMLYuuXY__sK"
      },
      "source": [
        "## Atalhos de Teclado úteis\n",
        "\n",
        "\n",
        "\n",
        "---\n",
        "\n",
        "|Ação |Jupyter |Colab|\n",
        "|-----|--------|-----|\n",
        "|Adicionar célula acima da atual|A+A|Ctrl+**M**+A|\n",
        "|Adicionar célula abaixo da atual|B+B|Ctrl+**M**+B|\n",
        "|Trocar para célula tipo **code**|Y|Ctrl+**M**+Y|\n",
        "|Trocar para célula tipo **Texto (markdown)**|M|Ctrl+**M**+M|\n",
        "|Interromper kernel (execução)|I+I|Ctrl+**M**+I|\n",
        "|Deletar célula atual|D+D|Ctrl+**M**+D|\n",
        "|Salvar Notebook|Ctrl+S|Ctrl+**M**+S|\n",
        "|Desvazer exclusão de células|Z+Z|Ctrl+**M**+Z|\n",
        "|Identação|Tab|Tab|\n",
        "|Retornar uma Identação|Shift+Tab|Shift+Tab|\n",
        "|Executar código e pular para célula abaixo|Shift+Enter|Shift+Enter|\n",
        "|Executar código e permanecer na célula atual|Ctrl+Enter|Ctrl+Enter|\n"
      ]
    },
    {
      "cell_type": "markdown",
      "metadata": {
        "id": "YGu5ba00AAV8"
      },
      "source": [
        "## Mais recursos já disponíveis\n",
        "\n",
        "\n",
        "---\n",
        "\n",
        "\n",
        "\n",
        "### Como trabalhar com Notebooks no Colab\n",
        "- [Visão geral do Colaboratory](/notebooks/basic_features_overview.ipynb)\n",
        "- [Guia sobre Markdown](/notebooks/markdown_guide.ipynb)\n",
        "- [Importar bibliotecas e instalar dependências](/notebooks/snippets/importing_libraries.ipynb)\n",
        "- [Salvar e carregar notebooks no GitHub](https://colab.research.google.com/github/googlecolab/colabtools/blob/master/notebooks/colab-github-demo.ipynb)\n",
        "- [Formulários interativos](/notebooks/forms.ipynb)\n",
        "- [Widgets interativos](/notebooks/widgets.ipynb)\n",
        "- <img src=\"/img/new.png\" height=\"20px\" align=\"left\" hspace=\"4px\" alt=\"New\"></img>\n",
        " [TensorFlow 2 no Colab](/notebooks/tensorflow_version.ipynb)\n",
        "\n",
        "<a name=\"working-with-data\"></a>\n",
        "### Como trabalhar com dados\n",
        "- [Carregar dados: Drive, Planilhas e Google Cloud Storage](/notebooks/io.ipynb) \n",
        "- [Gráficos: visualizar dados](/notebooks/charts.ipynb)\n",
        "\n"
      ]
    },
    {
      "cell_type": "markdown",
      "metadata": {
        "id": "Ef3x63d3AAOt"
      },
      "source": [
        "# Carregar e salvar dados do Drive e de fontes locais\n",
        "\n",
        "\n",
        "---\n",
        "\n",
        "<img src=\"https://github.com/jupotratz/Python_BI_Master/blob/main/Turmas/2021.3/Imagens/download_infos.png?raw=true\" width=650>\n",
        "\n",
        "## Sistema de arquivos local\n",
        "---\n",
        "### Fazer upload de arquivos a partir de sistema de arquivos local\n",
        "\n",
        "<code>files.upload</code> retorna um dicionário com os arquivos incluídos no upload. O objeto uploaded  é um dicionário com os dados em formato de bytes, pode ser manipulado para virar um objeto tratado pelo pandas. Para isso, usamos a biblioteca [io](https://docs.python.org/3/library/io.html).\n",
        "\n",
        "\n"
      ]
    },
    {
      "cell_type": "code",
      "metadata": {
        "id": "Au01goHp__0C",
        "colab": {
          "resources": {
            "http://localhost:8080/nbextensions/google.colab/files.js": {
              "data": "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",
              "ok": true,
              "headers": [
                [
                  "content-type",
                  "application/javascript"
                ]
              ],
              "status": 200,
              "status_text": ""
            }
          },
          "base_uri": "https://localhost:8080/",
          "height": 91
        },
        "outputId": "c82f8797-2eda-467a-d3e0-1ce9c78052f3"
      },
      "source": [
        "from google.colab import files\n",
        "\n",
        "uploaded = files.upload()\n",
        "\n",
        "for fn in uploaded.keys():\n",
        "  print('User uploaded file \"{name}\" with length {length} bytes'.format(\n",
        "      name=fn, length=len(uploaded[fn])))"
      ],
      "execution_count": null,
      "outputs": [
        {
          "output_type": "display_data",
          "data": {
            "text/html": [
              "\n",
              "     <input type=\"file\" id=\"files-de890820-ffe8-401b-9da6-828afb3f1e0a\" name=\"files[]\" multiple disabled\n",
              "        style=\"border:none\" />\n",
              "     <output id=\"result-de890820-ffe8-401b-9da6-828afb3f1e0a\">\n",
              "      Upload widget is only available when the cell has been executed in the\n",
              "      current browser session. Please rerun this cell to enable.\n",
              "      </output>\n",
              "      <script src=\"/nbextensions/google.colab/files.js\"></script> "
            ],
            "text/plain": [
              "<IPython.core.display.HTML object>"
            ]
          },
          "metadata": {}
        },
        {
          "output_type": "stream",
          "name": "stdout",
          "text": [
            "Saving 2015.csv to 2015.csv\n",
            "User uploaded file \"2015.csv\" with length 16557 bytes\n"
          ]
        }
      ]
    },
    {
      "cell_type": "code",
      "metadata": {
        "id": "TbLtw1eqaS1p"
      },
      "source": [
        "import io\n",
        "import pandas as pd\n",
        "dataset = pd.read_csv(io.BytesIO(uploaded['2015.csv']))"
      ],
      "execution_count": null,
      "outputs": []
    },
    {
      "cell_type": "markdown",
      "metadata": {
        "id": "p3PDb8iKAAHc"
      },
      "source": [
        "### Fazer download de arquivos para o sistema de arquivos local\n",
        "\n",
        "<code>files.download</code> invocará o download do arquivo pelo navegador para seu computador local.\n",
        "\n",
        "\n"
      ]
    },
    {
      "cell_type": "code",
      "metadata": {
        "id": "3aeWPuFE_jmo"
      },
      "source": [
        "from google.colab import files\n",
        "\n",
        "with open('example.txt', 'w') as f:\n",
        "  f.write('some content')\n",
        "\n",
        "files.download('example.txt')"
      ],
      "execution_count": null,
      "outputs": []
    },
    {
      "cell_type": "markdown",
      "metadata": {
        "id": "MQbZ5HiSMywc"
      },
      "source": [
        "## Sistema de arquivos na nuvem (Drive)\n",
        "---\n",
        "\n",
        "# Google Drive\n",
        "\n",
        "É possível acessar os arquivos no Drive de várias maneiras. Por exemplo:\n",
        "- Montar o Google Drive na máquina virtual do ambiente de execução\n",
        "- Usar um wrapper ao redor da API, <a href=\"https://pythonhosted.org/PyDrive/\">como o PyDrive</a>\n",
        "- Usar a <a href=\"https://developers.google.com/drive/v3/web/about-sdk\">API REST nativa</a>\n",
        "\n",
        "\n",
        "Nós vamos explorar apenas o primeiro tópico que consiste na montagem do Google Drive. Para explorar as outras soluções vocês podem encontrar as respostas <a href=\"https://colab.research.google.com/notebooks/io.ipynb#scrollTo=c2W5A2px3doP\">aqui</a>\n",
        "\n",
        "---\n",
        "O exemplo abaixo mostra como montar o Google Drive no seu ambiente de execução usando um código de autorização, além de como gravar e ler arquivos nele. Depois de executado, você verá o novo arquivo &#40;<code>foo.txt</code>&#41; no <a href=\"https://drive.google.com/\">https://drive.google.com/</a>.\n",
        "\n",
        "Isto permite somente ler, gravar e mover arquivos. Para modificar de maneira programática as configurações de compartilhamento ou outros metadados, use uma das opções abaixo.\n",
        "\n",
        "<strong>Observação:</strong> ao usar o botão \"Montar Drive\" no navegador de arquivos, não é necessário usar nenhum código de autenticação para notebooks que tenham sido editados somente pelo usuário atual."
      ]
    },
    {
      "cell_type": "code",
      "metadata": {
        "id": "s7djv8DoNwMt"
      },
      "source": [
        "from google.colab import drive\n",
        "drive.mount('/content/drive')"
      ],
      "execution_count": null,
      "outputs": []
    },
    {
      "cell_type": "code",
      "metadata": {
        "id": "XvDz8q4bOMYY"
      },
      "source": [
        "with open('/content/drive/My Drive/foo.txt', 'w') as f:\n",
        "  f.write('Hello Google Drive!')\n",
        "!cat /content/drive/My\\ Drive/foo.txt"
      ],
      "execution_count": null,
      "outputs": []
    },
    {
      "cell_type": "markdown",
      "metadata": {
        "id": "H-7wRTtBOdcC"
      },
      "source": [
        "### Direcionar o Google Colaboratory para a sua pasta Colab Notebooks\n",
        "\n",
        "Para melhorar o processo de trabalho ao utilizar o recurso de montar o drive é uma boa prática setar o diretório de trabalho como diretório corrente. Esse procedimento tem algumas vantagens como:\n",
        "\n",
        "- Facilita o trabalho, pois em geral é recomendado manter todos os arquivos necessários para um projeto em um único diretório (exemplo: pasta do projeto que esta trabalhando)\n",
        "- Evita ter que ficar passando o diretório completo de arquivos para ler e salvar dados no Drive.\n",
        "\n",
        "Para realizar esse procedimentos precisamos seguir dois passos:\n",
        "1. Encontrar o caminho do diretório desejado. \n",
        "  - Utilizar o comando linux [ls](https://guialinux.uniriotec.br/ls/) utilizado para listar arquivos e/ou pastas dentro de um diretório.\n",
        "\n",
        "2. Setar esse caminho como o diretório corrente do notebook que está sendo executado.\n",
        "  - Utilizar a função <code>os.chdir(dir)</code> da biblioteca [os](https://docs.python.org/pt-br/3/library/os.html) para definir o diretório corrente\n"
      ]
    },
    {
      "cell_type": "markdown",
      "metadata": {
        "id": "YI1vSQxXQa0X"
      },
      "source": [
        "<img src=\"https://github.com/jupotratz/Python_BI_Master/blob/main/Turmas/2021.3/Imagens/sep.png?raw=true\"  width=1000 height=125 />"
      ]
    },
    {
      "cell_type": "markdown",
      "metadata": {
        "id": "AV-onxRPSaA6"
      },
      "source": [
        "# Exemplos do dia a dia\n",
        "---\n",
        "\n"
      ]
    },
    {
      "cell_type": "markdown",
      "metadata": {
        "id": "SrzCKrZruEVe"
      },
      "source": [
        "## Pintor \n",
        "\n",
        "Um Pintor muito eficiente que trabalha com pintura de escritórios comerciais decide construir um sistema automático para informar aos seus clientes o custo da mão de obra e a quantidade de tinta necessária para realizar a pintura dos escritórios. O objetivo do pintor é construir um sistema que possa fornecer o custo para o cliente de forma rápida, e assim conseguir mais clientes. \n",
        "\n",
        "O pintor cobra em média R$ 7.50 por m²\n",
        "Além disso, ele tem uma tabela com os rendimentos médios de algumas marcas de tinta.\n",
        "\n",
        "|Marca|m²/l|Preço médio/l|\n",
        "|:-----:|:------:|:-----:|\n",
        "|A| 4|\t3,40|\t\n",
        "|B| 6|\t5,10|\t\n",
        "|C| 8|\t6,80|\t\n",
        "|D| 10|\t8,50|\n",
        "|E| 12|\t10,20|\n",
        "|F| 14|\t11,90|\n",
        "\n",
        "\n",
        "Para o programa funcionar a única coisa que o pintor precisa é que o cliente forneça a quantidade de salas e as dimensões (largura e comprimento) de cada sala.\n",
        "\n",
        "\n",
        "\n",
        "\n",
        "\n",
        "\n",
        "\n",
        "\n"
      ]
    },
    {
      "cell_type": "code",
      "metadata": {
        "id": "ynwSYWtu_2XL"
      },
      "source": [
        "from IPython.display import clear_output\n",
        "\n",
        "quantidade_salas = input('Quantas salas existem no seu escritório: ')\n",
        "clear_output(wait=True) # ========= clear terminal output\n",
        "preco_metro_quadrado = 7.5\n",
        "rendimento_tinta = [8]\n",
        "\n",
        "infos_salas = []\n",
        "\n",
        "for idx  in range(int(quantidade_salas)):\n",
        "  formato = input(f'Qual o formato da sala {idx+1}?\\n\\n1 - Quadrada\\n2 - Retangular\\n\\n Escolha uma das opções desejadas: ')\n",
        "  clear_output(wait=True) # ========= clear terminal output\n",
        "\n",
        "  largura = input(f'Informe a largura da sala {idx+1}: ')\n",
        "  altura =  input(f'Informe a altura da sala {idx+1}: ')\n",
        "\n",
        "  if formato == '2':\n",
        "     comprimento = input(f'Informe o comprimento da sala {idx+1}: ')\n",
        "     area_teto = largura*comprimento\n",
        "     area_paredes = ((2*(largura*altura))+(2*(comprimento*altura)))*0.95\n",
        "     area_pintura_aproximada = area_teto + area_paredes \n",
        "  else:\n",
        "    area_teto = largura*largura\n",
        "    area_paredes = 4*(largura*altura)*0.95\n",
        "    area_pintura_aproximada = area_teto + area_paredes\n",
        "  \n",
        "  valor_sala = area_pintura_aproximada\n",
        "\n",
        "  infos_salas.append([formato,area_pintura_aproximada,valor_sala])\n",
        "\n"
      ],
      "execution_count": null,
      "outputs": []
    },
    {
      "cell_type": "code",
      "metadata": {
        "id": "TUDaua-P0DdW"
      },
      "source": [
        ""
      ],
      "execution_count": null,
      "outputs": []
    },
    {
      "cell_type": "code",
      "metadata": {
        "id": "T9Yyf7Xq0Dgs"
      },
      "source": [
        ""
      ],
      "execution_count": null,
      "outputs": []
    },
    {
      "cell_type": "code",
      "metadata": {
        "id": "wbRxkMVJ0Eey"
      },
      "source": [
        ""
      ],
      "execution_count": null,
      "outputs": []
    },
    {
      "cell_type": "code",
      "metadata": {
        "id": "OAg1oAas0E-a"
      },
      "source": [
        ""
      ],
      "execution_count": null,
      "outputs": []
    },
    {
      "cell_type": "code",
      "metadata": {
        "id": "Vpijf0rS0FB9"
      },
      "source": [
        ""
      ],
      "execution_count": null,
      "outputs": []
    },
    {
      "cell_type": "markdown",
      "metadata": {
        "id": "ctaMPBEW9mvR"
      },
      "source": [
        "## Caixa de supermercado\n",
        "\n",
        "Sr. Joaquim contratou um especilista em python para montar um sistema de vendas para a sua loja. Nesse sitema de vendas o ojetivo é fornecer um histórico da compra bem como a sua estatistica basica para o cliente fornecendo as seguintes informações:\n",
        "- Histórico da compra (valor por item e valor total)\n",
        "- Porcentagem de produtos por classe (graficamente)\n",
        "- Porcentagem do valor de cada classe de produtos na valor final da compra (graficamente)\n",
        "\n",
        "Além disso, para manter os negocios funcionando bem o Sr. Joaqui também para o especialista fazer um balanço das vendas por dia, para que futuramente ele possa controlar melhor o seu estoque semanal e assim atender os seus clientes. Nesse balanço eles deseja as seguintes informações no final de cada dia:\n",
        "- Quantidade vendida de cada produto\n",
        "- Porcentagem de produtos por classe\n",
        "\n",
        "<img src=\"https://encrypted-tbn0.gstatic.com/images?q=tbn:ANd9GcS0rs-rC0sQ17Q4d8n9_A-45vLvgdeltQs6Tg&usqp=CAU\" width=400>\n"
      ]
    },
    {
      "cell_type": "code",
      "metadata": {
        "id": "hRPAIncsYT-3"
      },
      "source": [
        "from IPython.display import clear_output\n",
        "\n",
        "\n",
        "def gerar_grafico_cliente_categorias(lista_produtos_cliente):\n",
        "  import numpy as np\n",
        "  import matplotlib.pyplot as plt\n",
        "\n",
        "  lista_categorias, valor_categoria = [], []\n",
        "  for produto in lista_produtos_cliente:\n",
        "    lista_categorias.append(produto[2])\n",
        "  \n",
        "  lista_categorias = np.array(lista_categorias)\n",
        "  unique, counts = np.unique(lista_categorias, return_counts=True)\n",
        "\n",
        "  for categoria in unique:\n",
        "    valor_categoria.append(sum([produto[1] for produto in lista_produtos_cliente if produto[-1]==categoria]))\n",
        "  valor_categoria = np.array(valor_categoria)\n",
        "\n",
        "  plt.rcParams['figure.figsize'] = (15,7)\n",
        "  fig, (ax1, ax2) = plt.subplots(1, 2)\n",
        "  fig.suptitle('Estatistica por categoria de produto')\n",
        "  ax1.pie(counts/(counts.sum()) ,labels=unique,autopct='%1.1f%%',shadow=True)\n",
        "  ax1.set_title('Porcentagem de Produtos por categoria')\n",
        "  ax2.pie(valor_categoria/(valor_categoria.sum()) ,labels=unique,autopct='%1.1f%%')\n",
        "  ax2.set_title('Porcentagem do valor total por categoria')\n",
        "  plt.legend(unique,bbox_to_anchor=(1.2, 1), loc=2, borderaxespad=0.)\n",
        "  plt.subplots_adjust(left=0.125,\n",
        "                    bottom=0.1, \n",
        "                    right=0.9, \n",
        "                    top=0.9, \n",
        "                    wspace=0.2, \n",
        "                    hspace=0.35)\n",
        "  plt.show()\n",
        "\n",
        "\n",
        "\n",
        "def caixa_sr_joaquin():\n",
        "  texto_inicial = 'Operações disponíveis\\n\\n1 - Contabilizar nova compra\\n2 - Fechar caixa\\n\\nDigite a opção desejada: '\n",
        "  texto_compra_cliente = 'Operações disponíveis\\n\\n1 - Cadastrar novo produto\\n2 - Encerrar compra do cliente\\n\\nDigite a opção desejada: '''\n",
        "  dicionario_produtos = {'0':{'preço':7.45,'Nome':'Alvejante','tipo':'limpeza'},\n",
        "                        '1':{'preço':2,'Nome':'Amaciante','tipo':'limpeza'},\n",
        "                        '2':{'preço':50,'Nome':'Desinfetante','tipo':'limpeza'},\n",
        "                        '3':{'preço':34,'Nome':'Detergente','tipo':'limpeza'},\n",
        "                        '4':{'preço':68,'Nome':'Escovinhas','tipo':'limpeza'},\n",
        "                        '5':{'preço':102,'Nome':'Esponja de aço','tipo':'limpeza'},\n",
        "                        '6':{'preço':67,'Nome':'Luvas de borracha','tipo':'limpeza'},\n",
        "                        '7':{'preço':45,'Nome':'Pá','tipo':'limpeza'},\n",
        "                        '8':{'preço':12,'Nome':'Pano de chão','tipo':'limpeza'},\n",
        "                        '9':{'preço':7,'Nome':'Pano de prato','tipo':'limpeza'},\n",
        "                        '10':{'preço':2,'Nome':'Rodo','tipo':'limpeza'},\n",
        "                        '11':{'preço':5,'Nome':'Sabão em barra','tipo':'limpeza'},\n",
        "                        '12':{'preço':11,'Nome':'Sabão em pó','tipo':'limpeza'},\n",
        "                         '13':{'preço':11,'Nome':'Vassoura','tipo':'limpeza'},\n",
        "                         '14':{'preço':11,'Nome':'Água sanitária','tipo':'limpeza'},\n",
        "                         '15':{'preço':11,'Nome':'Absorvente','tipo':'higiene pessoal'},\n",
        "                         '16':{'preço':11,'Nome':'Algodão','tipo':'higiene pessoal'},\n",
        "                         '17':{'preço':11,'Nome':'Condicionador','tipo':'higiene pessoal'},\n",
        "                         '18':{'preço':11,'Nome':'Cotonete','tipo':'higiene pessoal'},\n",
        "                         '19':{'preço':11,'Nome':'Escova de dentes','tipo':'higiene pessoal'},\n",
        "                         '20':{'preço':11,'Nome':'Hidratantes','tipo':'higiene pessoal'},\n",
        "                         '21':{'preço':11,'Nome':'Lâmina de barbear','tipo':'higiene pessoal'},\n",
        "                         '22':{'preço':11,'Nome':'Papel higiênico','tipo':'higiene pessoal'},\n",
        "                         '23':{'preço':11,'Nome':'Pasta de dente','tipo':'higiene pessoal'},\n",
        "                         '24':{'preço':11,'Nome':'Sabonetes','tipo':'higiene pessoal'},\n",
        "                         '25':{'preço':11,'Nome':'Shampoo','tipo':'higiene pessoal'},\n",
        "                         '26':{'preço':11,'Nome':'Biscoitos','tipo':'padaria'},\n",
        "                         '27':{'preço':11,'Nome':'Bisnaguinha','tipo':'padaria'},\n",
        "                         '28':{'preço':11,'Nome':'Broinha de milho','tipo':'padaria'},\n",
        "                         '29':{'preço':11,'Nome':'Pães de queijo','tipo':'padaria'},\n",
        "                         '30':{'preço':11,'Nome':'Pão de cachorro-quente','tipo':'padaria'},\n",
        "                         '31':{'preço':11,'Nome':'Pão de forma','tipo':'padaria'},\n",
        "                         '32':{'preço':11,'Nome':'Pão de hambúrguer','tipo':'padaria'},\n",
        "                         '33':{'preço':11,'Nome':'Achocolatados','tipo':'bebidas'},\n",
        "                         '34':{'preço':11,'Nome':'Água','tipo':'bebidas'},\n",
        "                         '35':{'preço':11,'Nome':'Cervejas','tipo':'bebidas'},\n",
        "                         '36':{'preço':11,'Nome':'Energéticos','tipo':'bebidas'},\n",
        "                         '37':{'preço':11,'Nome':'Refrigerantes','tipo':'bebidas'},\n",
        "                         '38':{'preço':11,'Nome':'Sucos','tipo':'bebidas'},\n",
        "                         '39':{'preço':11,'Nome':'Vinhos','tipo':'bebidas'},\n",
        "                         '40':{'preço':11,'Nome':'Vitaminas','tipo':'bebidas'},\n",
        "                         '41':{'preço':11,'Nome':'Vodka','tipo':'bebidas'},\n",
        "                         '42':{'preço':11,'Nome':'banana','tipo':'frutas'},\n",
        "                         '43':{'preço':11,'Nome':'abacate','tipo':'frutas'},\n",
        "                         '44':{'preço':11,'Nome':'mamão','tipo':'frutas'},\n",
        "                         '45':{'preço':11,'Nome':'morango','tipo':'frutas'},\n",
        "                         '46':{'preço':11,'Nome':'manga','tipo':'frutas'},\n",
        "                         '47':{'preço':11,'Nome':'abacaxi','tipo':'frutas'},\n",
        "                         '48':{'preço':11,'Nome':'limão','tipo':'frutas'},\n",
        "                         '49':{'preço':11,'Nome':'laranja','tipo':'frutas'},\n",
        "                         '50':{'preço':11,'Nome':'maça','tipo':'frutas'},\n",
        "                         '51':{'preço':11,'Nome':'pera','tipo':'frutas'},\n",
        "                         '52':{'preço':11,'Nome':'batata','tipo':'legumes'},\n",
        "                         '53':{'preço':11,'Nome':'cenoura','tipo':'legumes'},\n",
        "                         '54':{'preço':11,'Nome':'tomate','tipo':'legumes'},\n",
        "                         '55':{'preço':11,'Nome':'pimentão','tipo':'legumes'},\n",
        "                         '56':{'preço':11,'Nome':'beterraba','tipo':'legumes'},\n",
        "                         '57':{'preço':11,'Nome':'pepino','tipo':'legumes'},\n",
        "                         '58':{'preço':11,'Nome':'alho','tipo':'temperos'},\n",
        "                         '59':{'preço':11,'Nome':'cebola','tipo':'temperos'},\n",
        "                         '60':{'preço':11,'Nome':'cebolinha','tipo':'temperos'},\n",
        "                         '61':{'preço':11,'Nome':'salsa','tipo':'temperos'},\n",
        "                         '62':{'preço':11,'Nome':'coentro','tipo':'temperos'},\n",
        "                         '63':{'preço':11,'Nome':'couve','tipo':'verduras'},\n",
        "                         '64':{'preço':11,'Nome':'alface','tipo':'verduras'},\n",
        "                         '65':{'preço':11,'Nome':'rúcula','tipo':'verduras'},\n",
        "                         '66':{'preço':11,'Nome':'couve-flor','tipo':'verduras'},\n",
        "                         '67':{'preço':11,'Nome':'repolho','tipo':'verduras'},\n",
        "                         '68':{'preço':11,'Nome':'frango','tipo':'congelados'},\n",
        "                         '69':{'preço':11,'Nome':'Hambúrguer','tipo':'congelados'},\n",
        "                         '70':{'preço':11,'Nome':'Lasanha','tipo':'congelados'},\n",
        "                         '71':{'preço':11,'Nome':'Linguiça','tipo':'congelados'},\n",
        "                         '72':{'preço':11,'Nome':'Pão de queijo','tipo':'congelados'},\n",
        "                         '73':{'preço':11,'Nome':'Petiscos','tipo':'congelados'},\n",
        "                         '74':{'preço':11,'Nome':'Pratos prontos','tipo':'congelados'},\n",
        "                         '75':{'preço':11,'Nome':'Pizza','tipo':'congelados'},\n",
        "                         '76':{'preço':11,'Nome':'Salsicha','tipo':'congelados'},\n",
        "                         '77':{'preço':11,'Nome':'salsichão','tipo':'congelados'},\n",
        "                         '78':{'preço':11,'Nome':'Arroz','tipo':'diversos'},\n",
        "                         '79':{'preço':11,'Nome':'Azeite','tipo':'diversos'},\n",
        "                         '80':{'preço':11,'Nome':'Café','tipo':'diversos'},\n",
        "                         '81':{'preço':11,'Nome':'Bolachas e biscoitos','tipo':'diversos'},\n",
        "                         '82':{'preço':11,'Nome':'Chá','tipo':'diversos'},\n",
        "                         '83':{'preço':11,'Nome':'sardinha','tipo':'diversos'},\n",
        "                         '84':{'preço':11,'Nome':'atum','tipo':'diversos'},\n",
        "                         '85':{'preço':11,'Nome':'milho','tipo':'diversos'},\n",
        "                         '86':{'preço':11,'Nome':'ervilha','tipo':'diversos'},\n",
        "                         '87':{'preço':11,'Nome':'Extrato de tomate','tipo':'diversos'},\n",
        "                         '88':{'preço':11,'Nome':'Farinha de milho','tipo':'diversos'},\n",
        "                         '89':{'preço':11,'Nome':'Farinha de mandioca','tipo':'diversos'},\n",
        "                         '90':{'preço':11,'Nome':'Farofa pronta','tipo':'diversos'},\n",
        "                         '91':{'preço':11,'Nome':'Feijão','tipo':'diversos'},\n",
        "                         '92':{'preço':11,'Nome':'Leite','tipo':'diversos'},\n",
        "                         '93':{'preço':11,'Nome':'Macarrão','tipo':'diversos'},\n",
        "                         '94':{'preço':11,'Nome':'Maionese','tipo':'diversos'},\n",
        "                         '95':{'preço':11,'Nome':'Óleo','tipo':'diversos'},\n",
        "                         '96':{'preço':11,'Nome':'Tempero pronto','tipo':'diversos'},\n",
        "                         '97':{'preço':11,'Nome':'Batata palha','tipo':'diversos'}\n",
        "                        }\n",
        "\n",
        "\n",
        "  total_por_cliente, total_produtos = [], []\n",
        "  operacao_caixa = int(input(texto_inicial))\n",
        "  clear_output(wait=True) # ========= clear terminal output\n",
        "\n",
        "  while operacao_caixa != 2:\n",
        "    print(f'=== Cadastrar compras do cliente {len(total_por_cliente)+1} do dia ===',end='\\n\\n')\n",
        "    \n",
        "    compras_cliente = []\n",
        "    opcao_compra_cliente = int(input(texto_compra_cliente))\n",
        "    while opcao_compra_cliente != 2:\n",
        "\n",
        "      cod_barras = input('Digite o código de barras do produto: ')\n",
        "      clear_output(wait=True) # ========= clear terminal output\n",
        "      compras_cliente.append((dicionario_produtos[cod_barras]['Nome'],dicionario_produtos[cod_barras]['preço'],dicionario_produtos[cod_barras]['tipo']))\n",
        "      \n",
        "      print(f'=== Cadastrar compras do cliente {len(total_por_cliente)+1} do dia ===',end='\\n\\n')\n",
        "      for val in compras_cliente:\n",
        "        print(f'{val[0]} - R$ {round(val[1],2)}')\n",
        "      \n",
        "      print()\n",
        "      opcao_compra_cliente = int(input(texto_compra_cliente))\n",
        "    \n",
        "    clear_output(wait=True) # ========= clear terminal output\n",
        "    total = sum([produto[1] for produto in compras_cliente])\n",
        "    print(f'=== Conta final do cliente {len(total_por_cliente)+1} do dia ===',end='\\n\\n')\n",
        "    for val in compras_cliente:\n",
        "        print(f'{val[0]} - R$ {round(val[1],2)}')\n",
        "    \n",
        "    print(f'\\nTotal: R$ {round(total,2)}')\n",
        "    gerar_grafico_cliente_categorias(compras_cliente)\n",
        "    \n",
        "    total_por_cliente.append(total)\n",
        "    total_produtos += compras_cliente\n",
        "  \n",
        "    time.sleep(15)\n",
        "    print('Pagamento efetuado com sucesso')\n",
        "    time.sleep(5)\n",
        "    clear_output(wait=True) # ========= clear terminal output\n",
        "    print()\n",
        "    operacao_caixa = int(input(texto_inicial))\n",
        "  \n",
        "  "
      ],
      "execution_count": 7,
      "outputs": []
    },
    {
      "cell_type": "code",
      "metadata": {
        "id": "8YDYZsKmuOON",
        "colab": {
          "base_uri": "https://localhost:8080/"
        },
        "outputId": "7dab9398-b961-4337-aabe-38d85b92ce13"
      },
      "source": [
        "caixa_sr_joaquin()"
      ],
      "execution_count": 5,
      "outputs": [
        {
          "name": "stdout",
          "output_type": "stream",
          "text": [
            "Operações disponíveis\n",
            "\n",
            "1 - Contabilizar nova compra\n",
            "2 - Fechar caixa\n",
            "\n",
            "Digite a opção desejada: 2\n"
          ]
        }
      ]
    },
    {
      "cell_type": "code",
      "metadata": {
        "id": "FWcatoF-vwmq"
      },
      "source": [
        ""
      ],
      "execution_count": null,
      "outputs": []
    }
  ]
}