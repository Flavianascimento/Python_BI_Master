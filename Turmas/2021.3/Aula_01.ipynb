{
 "cells": [
  {
   "cell_type": "markdown",
   "metadata": {},
   "source": [
    "<img src=\"Imagens/sep.png\"  width=1000 height=100>\n",
    "\n",
    "### Professoras\n",
    "\n",
    " - Amanda Lemette \n",
    "\t - prof.amanda@ica.ele.puc-rio.br\n",
    "\t - [Linkedin Amanda](https://www.linkedin.com/in/amanda-lemette-brand%C3%A3o-83280918b)\n",
    " - Júlia Potratz\n",
    "\t - prof.julia@ica.ele.puc-rio.br\n",
    "\t - [Linkedin Julia](https://www.linkedin.com/in/julia-potratz)\n",
    "     \n",
    "\n",
    "# Aula 1\n",
    "\n",
    "- **Plano de aula:**\n",
    "\t-  Acessar e como abrir o material de aula        \n",
    "    - Introdução a programação \n",
    "        - Lógica de programação (conceitos básicos)\n",
    "        - Exercícios de lógica iterativos (programação em blocos)\n",
    "    - Introdução ao Python\n",
    "    - Google Colab\n",
    "    - Exemplo prático do dia a dia utilizando o básico do Python \n"
   ]
  },
  {
   "cell_type": "markdown",
   "metadata": {},
   "source": [
    "<img src=\"Imagens/sep.png\"  width=1000 height=100>\n",
    "\n",
    "\n",
    "\n",
    "<p style=\"font-family: Calibri; font-size:1.8em;color:black;\"> História da Programação </p>\n",
    "<img src=\"Imagens/historia.png\",width=450, height=225>"
   ]
  },
  {
   "cell_type": "markdown",
   "metadata": {},
   "source": [
    "<img src=\"Imagens/sep.png\"  width=1000 height=100>"
   ]
  },
  {
   "cell_type": "markdown",
   "metadata": {},
   "source": [
    "<p style=\"font-family: Calibri; font-size:1.6em;color:black;\"> Evolução das linguagens de programação ao longo do tempo</p>\n",
    "\n",
    "\n",
    "https://devskiller.com/pt/historia-da-programacao-idiomas/"
   ]
  },
  {
   "cell_type": "markdown",
   "metadata": {},
   "source": [
    "<img src=\"Imagens/sep.png\"  width=1000 height=100>"
   ]
  },
  {
   "attachments": {},
   "cell_type": "markdown",
   "metadata": {},
   "source": [
    "<p style=\"font-family: Calibri; font-size:1.6em;color:black;\"> Linguagens de Programaçao mais utilizadas no mundo. </p>\n",
    "\n",
    " \n",
    "<p style=\"font-family: Calibri; font-size:1.4;color:black;\"> Ranking divulgado pela revista IEEE Spectrum no final de 2021. </p>\n",
    "<img src=\"Imagens/ranking.JPG\",align=\"left\",width=\"250\", height=\"100\">\n",
    "<img src=\"Imagens/linguas.jpg\",align=\"right\",style=\"vertical-align:middle\",width=\"450\", height=\"300\">"
   ]
  },
  {
   "cell_type": "markdown",
   "metadata": {},
   "source": [
    "<img src=\"Imagens/sep.png\"  width=1000 height=100>"
   ]
  },
  {
   "cell_type": "markdown",
   "metadata": {},
   "source": [
    "<p style=\"font-family: Calibri; font-size:1.6em;color:black;\"> Por que a programação tem se tornado tão importante nos ultimos anos? </p>\n",
    "\n",
    "\n",
    "A chegada da era da informação vem trazendo grandes mudanças: a gestão dos negócios ficou mais dinâmica e competitiva, exigindo profissionais com perfil proativo e empreendedor, favorecendo a transformação digital, implodindo as estruturas hierárquicas e processuais rígidas e inflexíveis.\n",
    "\n",
    "\n",
    "A evolução tecnológica constante e incansável vem gerando mudanças no cenário empresarial, agregando novos recursos tecnológicos aos processos, reduzindo barreiras de comunicação e simplificando os fluxos de trabalho nas diversas áreas do conhecimento, como por exemplo:\n",
    "\n",
    "    - Área médica\n",
    "    - Mercado financeiro\n",
    "    - Comuniação/Jornalismo\n",
    "    - Direito \n",
    "    - Agropecuária\n",
    "    - Entre outras \n",
    "    \n",
    "Segundo um [artigo](https://c2ti.com.br/blog/as-32-profissoes-mais-cotadas-para-o-futuro-inova) publicado no site da empresa c2ti, a tabela abaixo apresenta algumas profissões que estarão em alta nos próximos anos e irão impactar direta e indiretamente todas as áreas do conhecimento.\n",
    "\n",
    "\n",
    "\n",
    "|Profissão|\n",
    "|-----|\n",
    "|Desenvolvedores de softwares|\n",
    "|Analista de Big Data|\n",
    "|Segurança da informação/Blockchain|\n",
    "|Especialistas em Experiência de Usuário/Cliente|\n",
    "|Profissional de Marketing Digital/Inbound Marketing|Produtores de conteúdo, analistas de mídia|\n",
    "|Gestor de inovação|\n",
    "|Especialista em E-commerce|\n",
    "|Creators/Influenciadores Digitais|\n",
    "|Assessor de creators|\n",
    "|Professores online|\n",
    "\n",
    "\n",
    "<p style=\"font-family: Calibri; font-size:1.6em;color:black;\"> Importância da programação nesse processo de transformação? </p>\n",
    "\n",
    "     - Criação de soluções personalizadas para cada problema\n",
    "     - Redução de custos (softwares, suporte técnico, etc)\n",
    "     - Desenvolvimento de soft skils como: raciocínio lógico, pensamento analítico e criatividade.\n",
    "     - Entre outros\n",
    "\n",
    "\n"
   ]
  },
  {
   "cell_type": "markdown",
   "metadata": {},
   "source": [
    "<img src=\"Imagens/sep.png\"  width=1000 height=100>"
   ]
  },
  {
   "cell_type": "markdown",
   "metadata": {},
   "source": [
    "<p style=\"font-family: Calibri; font-size:1.8em;color:red;\"> A programação não surgiu para solucionar os problemas do mundo. Ela surgiu como uma ferramentas que veio facilitar a vida dos seres humanos em diversas tarefas e vem sendo incorporada mais e mais no dia a dia dos profissionais de diferentes áreas do conhecimento.</p>\n",
    "\n",
    "\n",
    "<img src=\"Imagens/meiofim.jpg\">"
   ]
  },
  {
   "cell_type": "markdown",
   "metadata": {},
   "source": [
    "<img src=\"Imagens/sep.png\"  width=1000 height=100>"
   ]
  },
  {
   "attachments": {},
   "cell_type": "markdown",
   "metadata": {},
   "source": [
    "<p style=\"font-family: Calibri; font-size:2.5em;color:black;\"> Introdução a Programação</p>\n",
    "\n",
    "<p style=\"font-family: Calibri; font-size:1.6em;color:black;\"> Lógica de Programação</p>\n",
    "\n",
    "Segundo a filosofia a lógica é a parte da filosofia que trata das formas do pensamento em geral (dedução, indução, hipótese, inferência etc.) e das operações intelectuais que visam à determinação do que é verdadeiro ou não. Já quando pensamos em conceitos no universo da tecnologia da informação a lógica é a organização e planejamento das instruções, assertivas etc. em um algoritmo, a fim de viabilizar a implantação de um programa.\n",
    "\n",
    "<p style=\"font-family: Calibri; font-size:1.4em;color:blue;\"> Programar nada mais é do que a é a organização coesa de uma sequência de instruções voltadas à resolução de um problema de forma lógica. </p>\n",
    "\n",
    "![enter image description here](https://encrypted-tbn0.gstatic.com/images?q=tbn:ANd9GcQFslNDwbeGYOjSrkI9iKABd8FUr2MeMV-GVg&usqp=CAU)\n",
    "\n",
    "\n"
   ]
  },
  {
   "cell_type": "markdown",
   "metadata": {},
   "source": [
    "<img src=\"Imagens/sep.png\"  width=1000 height=100>"
   ]
  },
  {
   "cell_type": "markdown",
   "metadata": {},
   "source": [
    "# Exercícios (10 minutos)"
   ]
  },
  {
   "cell_type": "markdown",
   "metadata": {},
   "source": [
    "<p style=\"font-family: Calibri; font-size:1.2em;color:black;\"> Antes de começar a estudar mais o python vamos fazer alguns exercícios para praticar um pouco e começar a entender como devemos pensar quando vamos programar utilizando blocos. A programação em blocos nada mais é do que uma metodologia visualmente amigável e com um objetivo prático para o ensino dos conceitos iniciais ligados à programação, desenvolvimento de softwares/aplicativos e lógica de uma forma geral.</p>\n",
    "\n",
    "### Plataforma utilizada\n",
    "\n",
    "[brokly.games](https://blockly.games/?lang=en)\n",
    "\n",
    "<img src=\"Imagens/qrcode_blockly.games.png\" align=\"left\" width=200 height=200>\n",
    "\n",
    "<p style=\"font-family: Calibri; font-size:1.6em;color:red;\"> Exercícios: Maze (2 ao 9)</p>\n",
    "<p style=\"font-family: Calibri; font-size:1.6em;color:red;\"> Obetivo geral: Tentar utilizar o menor número de blocos possíveis </p>"
   ]
  },
  {
   "cell_type": "markdown",
   "metadata": {},
   "source": [
    "<img src=\"Imagens/sep.png\"  width=1000 height=100>"
   ]
  },
  {
   "cell_type": "markdown",
   "metadata": {},
   "source": [
    "<p style=\"font-family: Calibri; font-size:1.6em;color:black;\"> Fundamento básico da Programação</p>\n",
    "\n",
    "Qualquer algoritmo/programa desenvolvido terá como peças principais os seguintes componentes:\n",
    "    - **Informações externas de etrada:** fornecidas por alguém (usuário)\n",
    "    - **Código:** uma espécie de caixa preta que o usuári não tem acesso e que realiza diversas operações e transformações no dado de entrada a fim de gerar um resultado desejado.\n",
    "    - **Resultado desejado:** o resultado do processamento realizado no dado de entrada, pode ter diferentes formatos e estilos.\n",
    "    \n",
    "     \n",
    "<img src=\"Imagens/Imagem1.jpg\" width=450 height=225>\n",
    "\n",
    "\n",
    "Para adequar o pensamento lógico com o fundamento básico da programação é necessário:\n",
    "    1. Escolher uma linguagem de programação\n",
    "    2. Entender as características da linguagem\n",
    "        - Tipagem de dados\n",
    "        - Sintaxes\n",
    "        - Fuções \n",
    "        - Etc\n",
    "    3. PRATICAR "
   ]
  },
  {
   "cell_type": "markdown",
   "metadata": {},
   "source": [
    "<img src=\"Imagens/sep.png\"  width=1000 height=100>"
   ]
  },
  {
   "cell_type": "markdown",
   "metadata": {},
   "source": [
    "<p style=\"font-family: Calibri; font-size:1.6em;color:black;\"> Por que o Python?</p>"
   ]
  },
  {
   "cell_type": "code",
   "execution_count": null,
   "metadata": {},
   "outputs": [],
   "source": []
  },
  {
   "cell_type": "code",
   "execution_count": null,
   "metadata": {},
   "outputs": [],
   "source": []
  }
 ],
 "metadata": {
  "kernelspec": {
   "display_name": "Python 3",
   "language": "python",
   "name": "python3"
  },
  "language_info": {
   "codemirror_mode": {
    "name": "ipython",
    "version": 3
   },
   "file_extension": ".py",
   "mimetype": "text/x-python",
   "name": "python",
   "nbconvert_exporter": "python",
   "pygments_lexer": "ipython3",
   "version": "3.7.0"
  }
 },
 "nbformat": 4,
 "nbformat_minor": 2
}
