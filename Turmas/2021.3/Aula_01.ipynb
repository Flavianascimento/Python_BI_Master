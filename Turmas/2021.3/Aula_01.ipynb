{
  "nbformat": 4,
  "nbformat_minor": 0,
  "metadata": {
    "kernelspec": {
      "display_name": "Python 3",
      "language": "python",
      "name": "python3"
    },
    "language_info": {
      "codemirror_mode": {
        "name": "ipython",
        "version": 3
      },
      "file_extension": ".py",
      "mimetype": "text/x-python",
      "name": "python",
      "nbconvert_exporter": "python",
      "pygments_lexer": "ipython3",
      "version": "3.7.0"
    },
    "colab": {
      "name": "Aula_01.ipynb",
      "provenance": [],
      "collapsed_sections": []
    }
  },
  "cells": [
    {
      "cell_type": "markdown",
      "metadata": {
        "id": "52CGKm2L7ihg"
      },
      "source": [
        "<img src=\"https://github.com/jupotratz/Python_BI_Master/blob/main/Turmas/2021.3/Imagens/sep.png?raw=true\"  width=1000 height=125 />\n",
        "\n",
        "### Professoras\n",
        "\n",
        " - Amanda Lemette \n",
        "\t - prof.amanda@ica.ele.puc-rio.br\n",
        "\t - [Linkedin Amanda](https://www.linkedin.com/in/amanda-lemette-brand%C3%A3o-83280918b)\n",
        " - Júlia Potratz\n",
        "\t - prof.julia@ica.ele.puc-rio.br\n",
        "\t - [Linkedin Julia](https://www.linkedin.com/in/julia-potratz)\n",
        "     \n",
        "\n",
        "# Aula 1\n",
        "\n",
        "- **Plano de aula:**\n",
        "\t-  Acessar e como abrir o material de aula        \n",
        "    - Introdução a programação \n",
        "        - Lógica de programação (conceitos básicos)\n",
        "        - Exercícios de lógica iterativos (programação em blocos)\n",
        "    - Introdução ao Python\n",
        "    - Google Colab\n",
        "    - Exemplo prático do dia a dia utilizando o básico do Python \n"
      ]
    },
    {
      "cell_type": "markdown",
      "metadata": {
        "id": "t_JrodgL7ihm"
      },
      "source": [
        "<img src=\"https://github.com/jupotratz/Python_BI_Master/blob/main/Turmas/2021.3/Imagens/sep.png?raw=true\"  width=1000 height=125 />\n",
        "\n",
        "\n",
        "<p style=\"font-family: Calibri; font-size:1.8em;color:black;\"> História da Programação </p>\n",
        "\n",
        "\n",
        "![Image](https://github.com/jupotratz/Python_BI_Master/blob/main/Turmas/2021.3/Imagens/historia.png?raw=true)\n"
      ]
    },
    {
      "cell_type": "markdown",
      "metadata": {
        "id": "YSA4nHXx7ihn"
      },
      "source": [
        "<img src=\"https://github.com/jupotratz/Python_BI_Master/blob/main/Turmas/2021.3/Imagens/sep.png?raw=true\"  width=1000 height=125 />"
      ]
    },
    {
      "cell_type": "markdown",
      "metadata": {
        "id": "dvFRxnuL7iho"
      },
      "source": [
        "<p style=\"font-family: Calibri; font-size:1.6em;color:black;\"> Evolução das linguagens de programação ao longo do tempo</p>\n",
        "\n",
        "\n",
        "https://devskiller.com/pt/historia-da-programacao-idiomas/"
      ]
    },
    {
      "cell_type": "markdown",
      "metadata": {
        "id": "L5DmxgKX7iho"
      },
      "source": [
        "<img src=\"https://github.com/jupotratz/Python_BI_Master/blob/main/Turmas/2021.3/Imagens/sep.png?raw=true\"  width=1000 height=125 />"
      ]
    },
    {
      "cell_type": "markdown",
      "metadata": {
        "id": "BVPWwD3c7ihp"
      },
      "source": [
        "<p style=\"font-family: Calibri; font-size:1.6em;color:black;\"> Linguagens de Programaçao mais utilizadas no mundo. </p>\n",
        "\n",
        " \n",
        "<p style=\"font-family: Calibri; font-size:1.4;color:black;\"> Ranking divulgado pela revista IEEE Spectrum no final de 2021. </p>\n",
        "<img src=\"https://github.com/jupotratz/Python_BI_Master/blob/main/Turmas/2021.3/Imagens/ranking.JPG?raw=true\",align=\"left\",width=\"700\", height=\"500\">\n"
      ]
    },
    {
      "cell_type": "markdown",
      "metadata": {
        "id": "PSc-VwqY7ihp"
      },
      "source": [
        "<img src=\"https://github.com/jupotratz/Python_BI_Master/blob/main/Turmas/2021.3/Imagens/sep.png?raw=true\"  width=1000 height=125 />"
      ]
    },
    {
      "cell_type": "markdown",
      "metadata": {
        "id": "6lCNr_Ua7ihq"
      },
      "source": [
        "<p style=\"font-family: Calibri; font-size:1.6em;color:black;\"> Por que a programação tem se tornado tão importante nos ultimos anos? </p>\n",
        "\n",
        "\n",
        "A chegada da era da informação vem trazendo grandes mudanças: a gestão dos negócios ficou mais dinâmica e competitiva, exigindo profissionais com perfil proativo e empreendedor, favorecendo a transformação digital, implodindo as estruturas hierárquicas e processuais rígidas e inflexíveis.\n",
        "\n",
        "\n",
        "A evolução tecnológica constante e incansável vem gerando mudanças no cenário empresarial, agregando novos recursos tecnológicos aos processos, reduzindo barreiras de comunicação e simplificando os fluxos de trabalho nas diversas áreas do conhecimento, como por exemplo:\n",
        "\n",
        "    - Área médica\n",
        "    - Mercado financeiro\n",
        "    - Comuniação/Jornalismo\n",
        "    - Direito \n",
        "    - Agropecuária\n",
        "    - Entre outras \n",
        "    \n",
        "Segundo um [artigo](https://c2ti.com.br/blog/as-32-profissoes-mais-cotadas-para-o-futuro-inova) publicado no site da empresa c2ti, a tabela abaixo apresenta algumas profissões que estarão em alta nos próximos anos e irão impactar direta e indiretamente todas as áreas do conhecimento.\n",
        "\n",
        "\n",
        "\n",
        "|Profissão|\n",
        "|-----|\n",
        "|Desenvolvedores de softwares|\n",
        "|Analista de Big Data|\n",
        "|Segurança da informação/Blockchain|\n",
        "|Especialistas em Experiência de Usuário/Cliente|\n",
        "|Profissional de Marketing Digital/Inbound Marketing|Produtores de conteúdo, analistas de mídia|\n",
        "|Gestor de inovação|\n",
        "|Especialista em E-commerce|\n",
        "|Creators/Influenciadores Digitais|\n",
        "|Assessor de creators|\n",
        "|Professores online|\n",
        "\n",
        "\n",
        "<p style=\"font-family: Calibri; font-size:1.6em;color:black;\"> Importância da programação nesse processo de transformação? </p>\n",
        "\n",
        "     - Criação de soluções personalizadas para cada problema\n",
        "     - Redução de custos (softwares, suporte técnico, etc)\n",
        "     - Desenvolvimento de soft skils como: raciocínio lógico, pensamento analítico e criatividade.\n",
        "     - Entre outros\n",
        "\n",
        "\n"
      ]
    },
    {
      "cell_type": "markdown",
      "metadata": {
        "id": "prJ3QZd77ihr"
      },
      "source": [
        "<img src=\"https://github.com/jupotratz/Python_BI_Master/blob/main/Turmas/2021.3/Imagens/sep.png?raw=true\"  width=1000 height=125 />"
      ]
    },
    {
      "cell_type": "markdown",
      "metadata": {
        "id": "_ZRjU8hl7iht"
      },
      "source": [
        "<p style=\"font-family: Calibri; font-size:1.8em;color:red;\"> A programação não surgiu para solucionar os problemas do mundo. Ela surgiu como uma ferramentas que veio facilitar a vida dos seres humanos em diversas tarefas e vem sendo incorporada mais e mais no dia a dia dos profissionais de diferentes áreas do conhecimento.</p>\n",
        "\n",
        "\n",
        "<img src=\"https://github.com/jupotratz/Python_BI_Master/blob/main/Turmas/2021.3/Imagens/meiofim.png?raw=true\">"
      ]
    },
    {
      "cell_type": "markdown",
      "metadata": {
        "id": "gzg8JX6F7ihu"
      },
      "source": [
        "<img src=\"https://github.com/jupotratz/Python_BI_Master/blob/main/Turmas/2021.3/Imagens/sep.png?raw=true\"  width=1000 height=125 />"
      ]
    },
    {
      "cell_type": "markdown",
      "metadata": {
        "id": "CkpYKRsD7ihu"
      },
      "source": [
        " - redes sociais, mecanismos de buscas, plataformas de vídeo e música e muito mais.\n",
        " - CONTINUAR..."
      ]
    },
    {
      "cell_type": "code",
      "metadata": {
        "id": "hwy4FI0b7ihv"
      },
      "source": [
        ""
      ],
      "execution_count": null,
      "outputs": []
    },
    {
      "cell_type": "code",
      "metadata": {
        "id": "5zMGUC7L7ihw"
      },
      "source": [
        ""
      ],
      "execution_count": null,
      "outputs": []
    },
    {
      "cell_type": "code",
      "metadata": {
        "id": "Dxj-6nW-7ihw"
      },
      "source": [
        ""
      ],
      "execution_count": null,
      "outputs": []
    },
    {
      "cell_type": "markdown",
      "metadata": {
        "id": "7hMx9SZz7ihw"
      },
      "source": [
        "<img src=\"https://github.com/jupotratz/Python_BI_Master/blob/main/Turmas/2021.3/Imagens/sep.png?raw=true\"  width=1000 height=125 />"
      ]
    },
    {
      "cell_type": "markdown",
      "metadata": {
        "id": "FeEArrlc7ihw"
      },
      "source": [
        "<p style=\"font-family: Calibri; font-size:2.5em;color:black;\"> Introdução a Programação</p>\n",
        "\n",
        "<p style=\"font-family: Calibri; font-size:1.6em;color:black;\"> Lógica de Programação</p>\n",
        "\n",
        "Segundo a filosofia a lógica é a parte da filosofia que trata das formas do pensamento em geral (dedução, indução, hipótese, inferência etc.) e das operações intelectuais que visam à determinação do que é verdadeiro ou não. Já quando pensamos em conceitos no universo da tecnologia da informação a lógica é a organização e planejamento das instruções, assertivas etc. em um algoritmo, a fim de viabilizar a implantação de um programa.\n",
        "\n",
        "<p style=\"font-family: Calibri; font-size:1.4em;color:blue;\"> Programar nada mais é do que a organização coesa de uma sequência de instruções voltadas à resolução de um problema de forma lógica. </p>\n",
        "\n",
        "![enter image description here](https://encrypted-tbn0.gstatic.com/images?q=tbn:ANd9GcQFslNDwbeGYOjSrkI9iKABd8FUr2MeMV-GVg&usqp=CAU)\n",
        "\n",
        "\n"
      ]
    },
    {
      "cell_type": "markdown",
      "metadata": {
        "id": "eDXRbEPc7ihx"
      },
      "source": [
        "<img src=\"https://github.com/jupotratz/Python_BI_Master/blob/main/Turmas/2021.3/Imagens/sep.png?raw=true\"  width=1000 height=125 />"
      ]
    },
    {
      "cell_type": "markdown",
      "metadata": {
        "id": "D_UWFX9l7ihx"
      },
      "source": [
        "# Exercícios (10 minutos)"
      ]
    },
    {
      "cell_type": "markdown",
      "metadata": {
        "id": "nYQ8GReS7ihx"
      },
      "source": [
        "<p style=\"font-family: Calibri; font-size:1.2em;color:black;\"> Antes de começar a estudar mais o python vamos fazer alguns exercícios para praticar um pouco e começar a entender como devemos pensar quando vamos programar utilizando blocos. A programação em blocos nada mais é do que uma metodologia visualmente amigável e com um objetivo prático para o ensino dos conceitos iniciais ligados à programação, desenvolvimento de softwares/aplicativos e lógica de uma forma geral.</p>\n",
        "\n",
        "### Plataforma utilizada\n",
        "\n",
        "[brokly.games](https://blockly.games/?lang=en)\n",
        "\n",
        "<img src=\"https://github.com/jupotratz/Python_BI_Master/blob/main/Turmas/2021.3/Imagens/qrcode_blockly.games.png?raw=true\" align=\"left\" width=200 height=200>\n",
        "\n",
        "<p style=\"font-family: Calibri; font-size:1.6em;color:red;\"> Exercícios: Maze (2 ao 9)</p>\n",
        "<p style=\"font-family: Calibri; font-size:1.6em;color:red;\"> Obetivo geral: Tentar utilizar o menor número de blocos possíveis </p>"
      ]
    },
    {
      "cell_type": "markdown",
      "metadata": {
        "id": "uauxlBU87ihx"
      },
      "source": [
        "<img src=\"https://github.com/jupotratz/Python_BI_Master/blob/main/Turmas/2021.3/Imagens/sep.png?raw=true\"  width=1000 height=100 />"
      ]
    },
    {
      "cell_type": "markdown",
      "metadata": {
        "id": "GaersWc07ihy"
      },
      "source": [
        "<p style=\"font-family: Calibri; font-size:1.6em;color:black;\"> Fundamento básico da Programação</p>\n",
        "\n",
        "Qualquer algoritmo/programa desenvolvido terá como peças principais os seguintes componentes:\n",
        "    - **Informações externas de etrada:** fornecidas por alguém (usuário)\n",
        "    - **Código:** uma espécie de caixa preta que o usuári não tem acesso e que realiza diversas operações e transformações no dado de entrada a fim de gerar um resultado desejado.\n",
        "    - **Resultado desejado:** o resultado do processamento realizado no dado de entrada, pode ter diferentes formatos e estilos.\n",
        "    \n",
        "     \n",
        "<img src=\"https://github.com/jupotratz/Python_BI_Master/blob/main/Turmas/2021.3/Imagens/Imagem1.jpg?raw=true\" width=450 height=225>\n",
        "\n",
        "\n",
        "Para adequar o pensamento lógico com o fundamento básico da programação é necessário:\n",
        "    1. Escolher uma linguagem de programação\n",
        "    2. Entender as características da linguagem\n",
        "        - Tipagem de dados\n",
        "        - Sintaxes\n",
        "        - Fuções \n",
        "        - Etc\n",
        "    3. PRATICAR "
      ]
    },
    {
      "cell_type": "markdown",
      "metadata": {
        "id": "pOgj29EG7ihy"
      },
      "source": [
        "<img src=\"https://github.com/jupotratz/Python_BI_Master/blob/main/Turmas/2021.3/Imagens/sep.png?raw=true\"  width=1000 height=125 />"
      ]
    },
    {
      "cell_type": "markdown",
      "metadata": {
        "id": "M_SVtH5T7ihy"
      },
      "source": [
        "## Por que o Python?\n",
        "\n",
        "### 1. Facilidade e versatilidade\n",
        "    \n",
        "    - Linguagem livre e de Código aberto\n",
        "    - Frameworks disponíveis gratuitamente\n",
        "    - Infinidade de módulos disponíveis \n",
        "    - Multiplataforma (windowns, linux, mac)\n",
        "    - Sintaxe simples \n",
        "    - Documentação ampla\n",
        "    - Integração com outras linguagens (Java, C, C++, entre outras)\n",
        "    \n",
        "    \n",
        "#### Java\n",
        "\n",
        "\n",
        "\n",
        "    public class Voitto{\n",
        "    public static void main(String[] args)) {\n",
        "        System.out.println(\"Bi Master\")\n",
        "    }\n",
        "}\n",
        "\n",
        "#### Python\n",
        "```bash\n",
        "print(\"Bi Master\")\n",
        "```\n",
        "\n",
        "\n",
        "    \n",
        "\n",
        "### 2. Comunidade ampla e popularidade\n",
        "\n",
        "    - Fóruns de discução: Stack Overflow, GitHub\n",
        "    - Muitos blogs e material disponível na web\n",
        "\n",
        "### 3. Inteligência Artificial\n",
        "    - Bibliotecas completas já disponíveis: Keras, Tensorflow, Scikit-learn, Pytorch, entre outras\n",
        "    \n",
        "### 4. Programação Web\n",
        "\n",
        "    - Modulos disponíveis que tornam o desenvolvimento mais fácil: Django e Flask\n",
        "    - Algumas grandes empresas que usam Python no dia a dia \n",
        "    \n",
        "<img src=\"https://i2.wp.com/programadoraventureiro.com/wp-content/uploads/2020/12/Who-Use-Python1.png?resize=800%2C419&ssl=1\" />\n",
        "    \n",
        "\n",
        "\n",
        "### 5. Gerenciamento de Big Data\n",
        "    - Gerenciamento de informações\n",
        "    - Análise de dados: Pandas, Dask e Pyspark\n",
        " \n",
        "<img src=\"https://i.ytimg.com/vi/mG94nRrSlis/maxresdefault.jpg\" />\n",
        "\n",
        "\n",
        "### 6. Mercado Amplo e Salário\n",
        "    - De acordo com uma pesquisa feita pelo site Coding Dojo, Python é a terceira linguagem de programação mais procurada pelo mercado, atrás somente de JavaScript e Java.\n",
        "    - Grandes empresas como Google e Apple procuram profissionais para desenvolver em Python.\n"
      ]
    },
    {
      "cell_type": "markdown",
      "metadata": {
        "id": "tPFvx3yL7ihy"
      },
      "source": [
        "<img src=\"https://github.com/jupotratz/Python_BI_Master/blob/main/Turmas/2021.3/Imagens/sep.png?raw=true\"  width=1000 height=125 />"
      ]
    },
    {
      "cell_type": "markdown",
      "metadata": {
        "id": "lWwEjSAD7ihz"
      },
      "source": [
        "## Como começar a programar em Python?\n",
        "\n",
        "\n",
        "<p style=\"font-family: Calibri; font-size:1.8em;color:blue;\"> Passo 1 </p>\n",
        "    \n",
        "    - Decida se você vai utilizar um recurso na nuvem ou um recurso local para aprender a programar.\n",
        "\n",
        "\n",
        "\n",
        "\n",
        "### Frameworks disponíveis:\n",
        "\n",
        "<img src=\"Imagens/frameworks.png\" align=\"right\" width=500 height=100 />\n",
        "\n",
        "#### Execução local\n",
        "- [Pycharm](https://www.jetbrains.com/pt-br/pycharm/download/#section=windows)\n",
        "- [Visual Studio Code](https://code.visualstudio.com/)\n",
        "- [Jupyter notebook](https://jupyter.org/)\n",
        "- [Spyder](https://www.spyder-ide.org/)\n",
        "\n",
        "#### Execução na nuvem\n",
        "- [Google Colaboratory](https://colab.research.google.com/)\n",
        "- [Cognitive Class – Lab (IBM)](https://labs.cognitiveclass.ai/tools/jupyterlab/#)\n",
        "\n",
        "\n",
        "\n",
        "<p style=\"font-family: Calibri; font-size:1.8em;color:blue;\"> Passo 2 </p>\n",
        "\n",
        "    - Começe com o básico:\n",
        "        - Sintaxe da linguagem\n",
        "        - Funções já disponíveis (funções reservadas do python)\n",
        "    - Troque informações e experiência com quem já programa em Python\n",
        "    - Pratique bastante\n",
        "    "
      ]
    },
    {
      "cell_type": "markdown",
      "metadata": {
        "id": "ev4YCpg87ihz"
      },
      "source": [
        "<img src=\"https://github.com/jupotratz/Python_BI_Master/blob/main/Turmas/2021.3/Imagens/sep.png?raw=true\"  width=1000 height=100 />"
      ]
    },
    {
      "cell_type": "markdown",
      "metadata": {
        "id": "HYcr2loD7ihz"
      },
      "source": [
        "<p><img alt=\"Colaboratory logo\" height=\"45px\" src=\"data:image/png;base64,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\" align=\"left\"></p>\n",
        "\n",
        "## O que é o Colaboratory?\n",
        "\n",
        "        O Colaboratory, popularmente conhecido como \"Colab\" permite escrever código Python no seu navegador de internet, é um recurso da Google disponível gratuitamente e online tendo como vantagens: \n",
        "            - Nenhuma necessidade de configuração \n",
        "            - Acesso gratuito a GPU's (V100, P100, ...)\n",
        "            - Compartilhamento fácil\n",
        "        \n",
        "        \n"
      ]
    },
    {
      "cell_type": "markdown",
      "metadata": {
        "id": "150QQ4qF7ih0"
      },
      "source": [
        "## Primeiros passos\n",
        "\n",
        "O documento que você está lendo não é uma página da Web estática, mas sim um ambiente interativo chamado <strong>notebook Colab</strong> que permite escrever e executar código.\n",
        "\n",
        "Por exemplo, aqui está uma <strong>célula de código</strong> com um breve script Python que calcula um a quantidade de segundos que existe em um dia, armazena essa informação em uma variável e imprime o resultado:"
      ]
    },
    {
      "cell_type": "code",
      "metadata": {
        "id": "3_SMaEJO7ih0"
      },
      "source": [
        ""
      ],
      "execution_count": null,
      "outputs": []
    }
  ]
}